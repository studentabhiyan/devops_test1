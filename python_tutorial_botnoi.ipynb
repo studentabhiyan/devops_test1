{
  "nbformat": 4,
  "nbformat_minor": 0,
  "metadata": {
    "colab": {
      "name": "python_tutorial_botnoi.ipynb",
      "provenance": [],
      "authorship_tag": "ABX9TyMxSbPpUeLjlH7B7QHSTjxO"
    },
    "kernelspec": {
      "name": "python3",
      "display_name": "Python 3"
    },
    "language_info": {
      "name": "python"
    }
  },
  "cells": [
    {
      "cell_type": "markdown",
      "metadata": {
        "id": "ZGumNdBZWxUW"
      },
      "source": [
        "# **Python Tutorial-TH**\n",
        "\n",
        "\n"
      ]
    },
    {
      "cell_type": "markdown",
      "metadata": {
        "id": "Rk_tzDnUWxVu"
      },
      "source": [
        "Let's get Started"
      ]
    },
    {
      "cell_type": "markdown",
      "metadata": {
        "id": "l7SaV_ppXtPc"
      },
      "source": [
        "Whether you're new to programming or an experienced developer, it's easy to learn and use Python.\n",
        "\n"
      ]
    },
    {
      "cell_type": "markdown",
      "metadata": {
        "id": "5tFrIvUca1o3"
      },
      "source": [
        "Python is a very beginner friendly programming language which was developed by Guido van Rossum and launched in 1991. Python was designed to emphasize code readability with its notable use of significant indentation."
      ]
    },
    {
      "cell_type": "markdown",
      "metadata": {
        "id": "W52gIhbc63Rb"
      },
      "source": [
        "Python first command (print).\n"
      ]
    },
    {
      "cell_type": "markdown",
      "metadata": {
        "id": "AKRIVIa_5tLb"
      },
      "source": [
        "This command helps to show the text or numbers."
      ]
    },
    {
      "cell_type": "code",
      "metadata": {
        "id": "A5z8OuCsZhBl"
      },
      "source": [
        "#Let's write our first code for python\n",
        "\n",
        "print(\"Learning python\")\n"
      ],
      "execution_count": null,
      "outputs": []
    },
    {
      "cell_type": "markdown",
      "metadata": {
        "id": "_kTHz4i450TC"
      },
      "source": [
        "**Python comment.**"
      ]
    },
    {
      "cell_type": "markdown",
      "metadata": {
        "id": "-SI7wBBq529j"
      },
      "source": [
        "If you use \"#\" before writing any text in python file, then python compiler will ignore it."
      ]
    },
    {
      "cell_type": "code",
      "metadata": {
        "id": "AfjGkdO66bJC"
      },
      "source": [
        "#this how you comment.\n",
        "#they can be used to describe your code.\n",
        "#Also to give instructions to other programmers.\n"
      ],
      "execution_count": null,
      "outputs": []
    },
    {
      "cell_type": "markdown",
      "metadata": {
        "id": "i6XFMaZ765US"
      },
      "source": [
        "**Python Variables**"
      ]
    },
    {
      "cell_type": "markdown",
      "metadata": {
        "id": "-pdAeTPh9TeU"
      },
      "source": [
        "Variables are used to store values.\n",
        "\n"
      ]
    },
    {
      "cell_type": "markdown",
      "metadata": {
        "id": "6SmGxgUw9fpL"
      },
      "source": [
        "**Creating a variable**"
      ]
    },
    {
      "cell_type": "code",
      "metadata": {
        "id": "RQSxoWOaGs0i"
      },
      "source": [
        "x = 8 #int variable\n",
        "y = \"string\" #string variable\n",
        "a = 1.2 #float variable\n",
        "b = True #Boolean Variable\n"
      ],
      "execution_count": null,
      "outputs": []
    }
  ]
}